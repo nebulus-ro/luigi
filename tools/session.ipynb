{
 "cells": [
  {
   "attachments": {},
   "cell_type": "markdown",
   "metadata": {},
   "source": [
    "# Help find a session\n",
    "It is creating a sesisonId variable starting with a prefix"
   ]
  },
  {
   "cell_type": "code",
   "execution_count": 23,
   "metadata": {},
   "outputs": [
    {
     "name": "stdout",
     "output_type": "stream",
     "text": [
      "9092e9de-db04-45ad-bcc8-1d3f71bfeac1\n"
     ]
    }
   ],
   "source": [
    "import os\n",
    "\n",
    "def find_folder(start_with, path):\n",
    "    for dir in os.listdir(path):\n",
    "        if os.path.isdir(os.path.join(path, dir)) and dir.startswith(start_with):\n",
    "            yield dir\n",
    "\n",
    "start_with = \"90\"\n",
    "s_path = \"../sessions\"\n",
    "\n",
    "res = list(find_folder(start_with, s_path))\n",
    "if len(res) == 1:\n",
    "    sessionId = res[0]\n",
    "    print(sessionId)\n",
    "else:\n",
    "    print('There are several (or none) sessions starting with the prefix:', start_with)\n",
    "    print(res)"
   ]
  },
  {
   "attachments": {},
   "cell_type": "markdown",
   "metadata": {},
   "source": [
    "# Read Context\n",
    "In the current session open and display the context.pickle file"
   ]
  },
  {
   "cell_type": "code",
   "execution_count": 18,
   "metadata": {},
   "outputs": [
    {
     "name": "stdout",
     "output_type": "stream",
     "text": [
      "{'sessionId': '49719b7f-c9a0-4bf8-95e9-c867283748d2', 'domainRoot': 'E:\\\\Work\\\\A5\\\\production_architecture\\\\luigi', 'taskSource': 'validations', 'taskName': 'ValidationsTask', 'userId': 'marius', 'taskParams': {'inputfile': 'test_1000_lines.csv'}}\n"
     ]
    }
   ],
   "source": [
    "import pickle\n",
    "\n",
    "with open(os.path.join(s_path, sessionId, 'context.pickle'), 'rb') as pfile:\n",
    "    context = pickle.load(pfile)\n",
    "print(context)"
   ]
  },
  {
   "attachments": {},
   "cell_type": "markdown",
   "metadata": {},
   "source": [
    "# Run status for a session\n",
    "A good question is if this must be allowed to be!"
   ]
  },
  {
   "cell_type": "code",
   "execution_count": null,
   "metadata": {},
   "outputs": [],
   "source": [
    "import luigi\n",
    "import importlib\n",
    "import luigi.tools.deps_tree as deps_tree\n",
    "import sys\n",
    "\n",
    "# tools.status_luigi(context, context['sessionId'])\n",
    "config = luigi.configuration.LuigiConfigParser.instance()\n",
    "config.set('session', 'id', sessionId)\n",
    "sys.path.insert(0, '..')\n",
    "module = importlib.import_module(f'tasks.{context[\"taskSource\"]}')\n",
    "task_class = getattr(module, context['taskName'])\n",
    "task_obj = task_class(**context['taskParams'])\n",
    "print('\\n', deps_tree.print_tree(task_obj), '\\n')\n"
   ]
  },
  {
   "attachments": {},
   "cell_type": "markdown",
   "metadata": {},
   "source": [
    "# Get from staged sqlite file all outputs"
   ]
  },
  {
   "cell_type": "code",
   "execution_count": 24,
   "metadata": {},
   "outputs": [
    {
     "name": "stdout",
     "output_type": "stream",
     "text": [
      "(1, 'Validation3(inputfile=test_1000_lines.csv)')\n",
      "(2, 'Validation1(inputfile=test_1000_lines.csv)')\n"
     ]
    }
   ],
   "source": [
    "import sqlite3\n",
    "\n",
    "# Connect to the SQLite database\n",
    "with sqlite3.connect(os.path.join(s_path, sessionId, 'stage.sqlite')) as conn:\n",
    "    # Create a cursor object to execute SQL commands\n",
    "    cur =conn.cursor()\n",
    "    # Execute a SELECT statement to fetch all rows from the table\n",
    "    cur.execute(\"SELECT * FROM targets\")\n",
    "    # Fetch all rows and print them\n",
    "    rows = cur.fetchall()\n",
    "    if len(rows): \n",
    "        for row in rows:\n",
    "            print(row)\n",
    "    else:\n",
    "        print('nothing to print')\n",
    "    cur.close()"
   ]
  },
  {
   "cell_type": "code",
   "execution_count": 25,
   "metadata": {},
   "outputs": [
    {
     "name": "stdout",
     "output_type": "stream",
     "text": [
      "targets\n"
     ]
    }
   ],
   "source": [
    "# get all tables\n",
    "# Connect to the SQLite database\n",
    "with sqlite3.connect(os.path.join(s_path, sessionId, 'stage.sqlite')) as conn:\n",
    "    # Create a cursor object to execute SQL commands\n",
    "    cur = conn.cursor()\n",
    "\n",
    "    # Execute a SELECT statement to fetch the names of all tables\n",
    "    cur.execute(\"SELECT name FROM sqlite_master WHERE type='table'\")\n",
    "\n",
    "    # Fetch all table names and print them\n",
    "    tables = cur.fetchall()\n",
    "    for table in tables:\n",
    "        print(table[0])\n",
    "\n",
    "    # Close the cursor and database connection\n",
    "    cur.close()\n"
   ]
  }
 ],
 "metadata": {
  "kernelspec": {
   "display_name": "Python 3",
   "language": "python",
   "name": "python3"
  },
  "language_info": {
   "codemirror_mode": {
    "name": "ipython",
    "version": 3
   },
   "file_extension": ".py",
   "mimetype": "text/x-python",
   "name": "python",
   "nbconvert_exporter": "python",
   "pygments_lexer": "ipython3",
   "version": "3.10.5"
  },
  "orig_nbformat": 4,
  "vscode": {
   "interpreter": {
    "hash": "369f2c481f4da34e4445cda3fffd2e751bd1c4d706f27375911949ba6bb62e1c"
   }
  }
 },
 "nbformat": 4,
 "nbformat_minor": 2
}
