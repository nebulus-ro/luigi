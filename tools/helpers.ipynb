{
 "cells": [
  {
   "cell_type": "markdown",
   "metadata": {},
   "source": [
    "# Converters\n",
    "## 1. Convert a pickle dictionary to csv"
   ]
  },
  {
   "cell_type": "code",
   "execution_count": 25,
   "metadata": {},
   "outputs": [],
   "source": [
    "import pickle, csv\n",
    "from  collections import Counter\n",
    "\n",
    "# sessId = '31c0117c-5be5-4739-b5db-a680b901916e'\n",
    "# filename = f'../sessions/{sessId}/data/counts/count_0.pickle'\n",
    "\n",
    "with open(f'../sessions/{sessId}/data/counts/count_8.pickle', 'rb') as infile:\n",
    "    pickleDic = dict(pickle.load(infile))\n",
    "    with open('tmp/data.csv', 'w', newline='') as csvfile:\n",
    "        writer = csv.writer(csvfile)\n",
    "        writer.writerow(['key', 'value'])\n",
    "        for key, value in pickleDic.items():\n",
    "            writer.writerow([key, value])\n"
   ]
  },
  {
   "cell_type": "markdown",
   "metadata": {},
   "source": [
    "# Loaders\n",
    "## 1. Load a csv into pandas"
   ]
  },
  {
   "cell_type": "code",
   "execution_count": 26,
   "metadata": {},
   "outputs": [
    {
     "name": "stdout",
     "output_type": "stream",
     "text": [
      "              value\n",
      "count  11849.000000\n",
      "mean      13.972065\n",
      "std      161.475638\n",
      "min        1.000000\n",
      "25%        1.000000\n",
      "50%        2.000000\n",
      "75%        6.000000\n",
      "max    10131.000000\n",
      "\n",
      "         key  value\n",
      "0        the  10131\n",
      "1    project     94\n",
      "2  gutenberg     97\n",
      "3      ebook     13\n",
      "4         of   7349\n"
     ]
    }
   ],
   "source": [
    "import pandas as pd\n",
    "\n",
    "filename = '../tools/tmp/data.csv'\n",
    "\n",
    "dframe = pd.read_csv(filename)\n",
    "\n",
    "print(dframe.describe())\n",
    "print()\n",
    "print(dframe.head(5))"
   ]
  },
  {
   "cell_type": "markdown",
   "metadata": {},
   "source": [
    "# Visualisations\n",
    "# 1. Pandas ..."
   ]
  },
  {
   "cell_type": "code",
   "execution_count": 28,
   "metadata": {
    "scrolled": true
   },
   "outputs": [
    {
     "data": {
      "text/plain": [
       "<AxesSubplot:xlabel='key', ylabel='value'>"
      ]
     },
     "execution_count": 28,
     "metadata": {},
     "output_type": "execute_result"
    },
    {
     "data": {
      "image/png": "[encoded data removed]",
      "text/plain": [
       "<Figure size 432x288 with 1 Axes>"
      ]
     },
     "metadata": {
      "needs_background": "light"
     },
     "output_type": "display_data"
    }
   ],
   "source": [
    "import seaborn as sns\n",
    "\n",
    "small = dframe.head(5)\n",
    "# small = dframe.iloc[6:12,:]\n",
    "\n",
    "sns.barplot(x='key', y='value', data=small)"
   ]
  },
  {
   "cell_type": "markdown",
   "metadata": {},
   "source": [
    "# Search for a session"
   ]
  },
  {
   "cell_type": "code",
   "execution_count": 24,
   "metadata": {},
   "outputs": [
    {
     "name": "stdout",
     "output_type": "stream",
     "text": [
      "bf6bd17f-fc0e-4961-bc51-4c8192decbdb\n"
     ]
    }
   ],
   "source": [
    "import os\n",
    "\n",
    "def find_folder(start_with, path):\n",
    "    for dir in os.listdir(path):\n",
    "        if os.path.isdir(os.path.join(path, dir)) and dir.startswith(start_with):\n",
    "            yield dir\n",
    "\n",
    "start_with = \"bf\"\n",
    "path = \"../sessions\"\n",
    "\n",
    "res = list(find_folder(start_with, path))\n",
    "if len(res) == 1:\n",
    "    sessId = res[0]\n",
    "    print(sessId)\n",
    "else:\n",
    "    print('There are several sessions starting with the prefix:', start_with)\n",
    "    print(res)"
   ]
  },
  {
   "cell_type": "code",
   "execution_count": null,
   "metadata": {},
   "outputs": [],
   "source": []
  }
 ],
 "metadata": {
  "kernelspec": {
   "display_name": "Python 3",
   "language": "python",
   "name": "python3"
  },
  "language_info": {
   "codemirror_mode": {
    "name": "ipython",
    "version": 3
   },
   "file_extension": ".py",
   "mimetype": "text/x-python",
   "name": "python",
   "nbconvert_exporter": "python",
   "pygments_lexer": "ipython3",
   "version": "3.10.5"
  },
  "vscode": {
   "interpreter": {
    "hash": "369f2c481f4da34e4445cda3fffd2e751bd1c4d706f27375911949ba6bb62e1c"
   }
  }
 },
 "nbformat": 4,
 "nbformat_minor": 2
}
