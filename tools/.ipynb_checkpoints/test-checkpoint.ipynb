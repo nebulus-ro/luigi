{
 "cells": [
  {
   "cell_type": "markdown",
   "metadata": {},
   "source": [
    "# Converters\n",
    "## 1. Convert a pickle dictionary to csv"
   ]
  },
  {
   "cell_type": "code",
   "execution_count": 1,
   "metadata": {},
   "outputs": [],
   "source": [
    "import pickle, csv\n",
    "from  collections import Counter\n",
    "\n",
    "filename = '../sessions/31c0117c-5be5-4739-b5db-a680b901916e/data/counts/count_0.pickle'\n",
    "\n",
    "with open(filename, 'rb') as infile:\n",
    "    pickleDic = dict(pickle.load(infile))\n",
    "    with open('tmp/data.csv', 'w', newline='') as csvfile:\n",
    "        writer = csv.writer(csvfile)\n",
    "        writer.writerow(['key', 'value'])\n",
    "        for key, value in pickleDic.items():\n",
    "            writer.writerow([key, value])\n"
   ]
  },
  {
   "cell_type": "markdown",
   "metadata": {},
   "source": [
    "# Loaders\n",
    "## 1. Load a csv into pandas"
   ]
  },
  {
   "cell_type": "code",
   "execution_count": 2,
   "metadata": {},
   "outputs": [
    {
     "name": "stdout",
     "output_type": "stream",
     "text": [
      "             value\n",
      "count  4543.000000\n",
      "mean      6.451464\n",
      "std      32.335813\n",
      "min       1.000000\n",
      "25%       1.000000\n",
      "50%       1.000000\n",
      "75%       3.000000\n",
      "max     877.000000\n",
      "\n",
      "         key  value\n",
      "0        the    877\n",
      "1    project     89\n",
      "2  gutenberg     98\n",
      "3      ebook     13\n",
      "4         of    518\n"
     ]
    }
   ],
   "source": [
    "import pandas as pd\n",
    "\n",
    "filename = '../tools/tmp/data.csv'\n",
    "\n",
    "dframe = pd.read_csv(filename)\n",
    "\n",
    "print(dframe.describe())\n",
    "print()\n",
    "print(dframe.head(5))"
   ]
  },
  {
   "cell_type": "markdown",
   "metadata": {},
   "source": [
    "# Visualisations\n",
    "# 1. Pandas ..."
   ]
  },
  {
   "cell_type": "code",
   "execution_count": 8,
   "metadata": {
    "scrolled": true
   },
   "outputs": [
    {
     "data": {
      "text/plain": [
       "<AxesSubplot: xlabel='key', ylabel='value'>"
      ]
     },
     "execution_count": 8,
     "metadata": {},
     "output_type": "execute_result"
    },
    {
     "data": {
      "image/png": "[encoded data removed]",
      "text/plain": [
       "<Figure size 640x480 with 1 Axes>"
      ]
     },
     "metadata": {},
     "output_type": "display_data"
    }
   ],
   "source": [
    "import seaborn as sns\n",
    "\n",
    "small = dframe.head(5)\n",
    "sns.barplot(x='key', y='value', data=small)"
   ]
  },
  {
   "cell_type": "markdown",
   "metadata": {},
   "source": [
    "# Search for a session"
   ]
  },
  {
   "cell_type": "code",
   "execution_count": 11,
   "metadata": {},
   "outputs": [
    {
     "name": "stdout",
     "output_type": "stream",
     "text": [
      "['7c78ed2a-122d-433b-aae5-b8efda5a3a3f', '7c7a']\n"
     ]
    }
   ],
   "source": [
    "import os\n",
    "\n",
    "def find_folder(start_with, path):\n",
    "    for dir in os.listdir(path):\n",
    "        if os.path.isdir(os.path.join(path, dir)) and dir.startswith(start_with):\n",
    "            yield dir\n",
    "\n",
    "start_with = \"7c7\"\n",
    "path = \"../sessions\"\n",
    "\n",
    "res = list(find_folder(start_with, path))\n",
    "print(res)"
   ]
  },
  {
   "cell_type": "code",
   "execution_count": null,
   "metadata": {},
   "outputs": [],
   "source": []
  }
 ],
 "metadata": {
  "kernelspec": {
   "display_name": "Python 3 (ipykernel)",
   "language": "python",
   "name": "python3"
  },
  "language_info": {
   "codemirror_mode": {
    "name": "ipython",
    "version": 3
   },
   "file_extension": ".py",
   "mimetype": "text/x-python",
   "name": "python",
   "nbconvert_exporter": "python",
   "pygments_lexer": "ipython3",
   "version": "3.10.5"
  },
  "vscode": {
   "interpreter": {
    "hash": "369f2c481f4da34e4445cda3fffd2e751bd1c4d706f27375911949ba6bb62e1c"
   }
  }
 },
 "nbformat": 4,
 "nbformat_minor": 2
}
