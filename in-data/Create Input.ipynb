{
 "cells": [
  {
   "attachments": {},
   "cell_type": "markdown",
   "metadata": {},
   "source": [
    "# Create Input Data for Tests\n",
    "\n",
    "## 1. For Workload 1 flow: EBSSBS_PRL_A\n",
    "\n",
    "It is a csv format file with 21 columns, semicolon separated. Several columns are category and will be defined.\n"
   ]
  },
  {
   "cell_type": "code",
   "execution_count": 10,
   "metadata": {},
   "outputs": [],
   "source": [
    "import random\n",
    "import pandas as pd"
   ]
  },
  {
   "cell_type": "code",
   "execution_count": 6,
   "metadata": {},
   "outputs": [],
   "source": [
    "# function to load a category\n",
    "def load_cat(file_path):\n",
    "    with open(file_path, 'r') as file:\n",
    "        return [line.strip() for line in file]"
   ]
  },
  {
   "cell_type": "code",
   "execution_count": 4,
   "metadata": {},
   "outputs": [],
   "source": [
    "# all categories\n",
    "REF_AREA = load_cat('catalog/REF_AREA.cat')\n",
    "INDICATOR = load_cat('catalog/INDICATOR.cat')\n",
    "ACTIVITY = load_cat('catalog/ACTIVITY.cat')\n",
    "NUMBER_EMPL = load_cat('catalog/NUMBER_EMPL.cat')\n",
    "UNIT_MEASURE = load_cat('catalog/UNIT_MEASURE.cat')\n",
    "UNIT_MULT = load_cat('catalog/UNIT_MULT.cat')\n",
    "DECIMALS = load_cat('catalog/DECIMALS.cat')\n",
    "OBS_STATUS = load_cat('catalog/OBS_STATUS.cat')\n",
    "CONF_STATUS = load_cat('catalog/CONF_STATUS.cat')\n"
   ]
  },
  {
   "cell_type": "code",
   "execution_count": 12,
   "metadata": {},
   "outputs": [],
   "source": [
    "HEAD = 'DATAFLOW;FREQ;TIME_PERIOD;REF_AREA;INDICATOR;ACTIVITY;NUMBER_EMPL;PRODUCT;TURNOVER;CLIENT_RESIDENCE;OBS_VALUE;UNIT_MEASURE;UNIT_MULT;DECIMALS;OBS_STATUS;OBS_STATUS_1;CONF_STATUS;CONF_STATUS_1;DOMINANCE;SHARE_SECOND;COMMENT_OBS'\n",
    "\n",
    "def write_csv1(filename, lines):\n",
    "    with open(filename, 'w') as file:\n",
    "        file.write(HEAD + '\\n')\n",
    "        for i in range(lines):\n",
    "            # DATAFLOW;FREQ; these columns always same values: ESTAT:EBSSBS_PRL_A(1.0);A;\n",
    "            part1 = 'ESTAT:EBSSBS_PRL_A(1.0);A;'\n",
    "            # TIME_PERIOD;\n",
    "            part2 = f'{random.randint(2019, 2022)};'\n",
    "            # REF_AREA;\n",
    "            part3 = random.choice(REF_AREA) + ';'\n",
    "            # INDICATOR;\n",
    "            part4 = random.choice(INDICATOR) + ';'\n",
    "            # ACTIVITY;\n",
    "            part5 = random.choice(ACTIVITY) + ';'\n",
    "            # NUMBER_EMPL;\n",
    "            part6 = random.choice(NUMBER_EMPL) + ';'\n",
    "            # PRODUCT;TURNOVER;CLIENT_RESIDENCE; not used always value _Z\n",
    "            part7 = '_Z;_Z;_Z;'\n",
    "            # OBS_VALUE; I asume it is a number\n",
    "            part8 = f'{1_000_000*random.random()};'\n",
    "            # UNIT_MEASURE;\n",
    "            part9 = random.choice(UNIT_MEASURE) + ';'\n",
    "            # UNIT_MULT;\n",
    "            part10 = random.choice(UNIT_MULT) + ';'\n",
    "            # DECIMALS;\n",
    "            part11 = random.choice(DECIMALS) + ';'\n",
    "            # OBS_STATUS;OBS_STATUS_1; twice same category\n",
    "            part12 = random.choice(OBS_STATUS) + ';' + random.choice(OBS_STATUS) + ';'\n",
    "            # CONF_STATUS;CONF_STATUS_1;  twice same category\n",
    "            part13 = random.choice(CONF_STATUS) + ';' + random.choice(CONF_STATUS) + ';'\n",
    "            # DOMINANCE;SHARE_SECOND;COMMENT_OBS i will ignore them\n",
    "            part14 = ';;'\n",
    "            file.write(part1 + part2 + part3 + part4 + part5 + part6 + part7 + part8 + part9 + part10 + part11 + part12 + part13 + part14 + '\\n')"
   ]
  },
  {
   "cell_type": "code",
   "execution_count": 16,
   "metadata": {},
   "outputs": [
    {
     "name": "stdout",
     "output_type": "stream",
     "text": [
      "<class 'pandas.core.frame.DataFrame'>\n",
      "RangeIndex: 1000000 entries, 0 to 999999\n",
      "Data columns (total 21 columns):\n",
      " #   Column            Non-Null Count    Dtype  \n",
      "---  ------            --------------    -----  \n",
      " 0   DATAFLOW          1000000 non-null  object \n",
      " 1   FREQ              1000000 non-null  object \n",
      " 2   TIME_PERIOD       1000000 non-null  int64  \n",
      " 3   REF_AREA          1000000 non-null  object \n",
      " 4   INDICATOR         1000000 non-null  object \n",
      " 5   ACTIVITY          1000000 non-null  object \n",
      " 6   NUMBER_EMPL       1000000 non-null  object \n",
      " 7   PRODUCT           1000000 non-null  object \n",
      " 8   TURNOVER          1000000 non-null  object \n",
      " 9   CLIENT_RESIDENCE  1000000 non-null  object \n",
      " 10  OBS_VALUE         1000000 non-null  float64\n",
      " 11  UNIT_MEASURE      1000000 non-null  object \n",
      " 12  UNIT_MULT         1000000 non-null  int64  \n",
      " 13  DECIMALS          1000000 non-null  int64  \n",
      " 14  OBS_STATUS        1000000 non-null  object \n",
      " 15  OBS_STATUS_1      1000000 non-null  object \n",
      " 16  CONF_STATUS       1000000 non-null  object \n",
      " 17  CONF_STATUS_1     1000000 non-null  object \n",
      " 18  DOMINANCE         0 non-null        float64\n",
      " 19  SHARE_SECOND      0 non-null        float64\n",
      " 20  COMMENT_OBS       0 non-null        float64\n",
      "dtypes: float64(4), int64(3), object(14)\n",
      "memory usage: 160.2+ MB\n"
     ]
    }
   ],
   "source": [
    "write_csv1('test_1_000_000_lines.csv', 1_000_000)\n",
    "\n",
    "df = pd.read_csv('test_1_000_000_lines.csv', sep=';')\n",
    "df.info()"
   ]
  },
  {
   "cell_type": "code",
   "execution_count": 17,
   "metadata": {},
   "outputs": [
    {
     "name": "stdout",
     "output_type": "stream",
     "text": [
      "<class 'pandas.core.frame.DataFrame'>\n",
      "RangeIndex: 1000000 entries, 0 to 999999\n",
      "Data columns (total 21 columns):\n",
      " #   Column            Non-Null Count    Dtype   \n",
      "---  ------            --------------    -----   \n",
      " 0   DATAFLOW          1000000 non-null  object  \n",
      " 1   FREQ              1000000 non-null  object  \n",
      " 2   TIME_PERIOD       1000000 non-null  int64   \n",
      " 3   REF_AREA          1000000 non-null  category\n",
      " 4   INDICATOR         1000000 non-null  category\n",
      " 5   ACTIVITY          1000000 non-null  category\n",
      " 6   NUMBER_EMPL       1000000 non-null  category\n",
      " 7   PRODUCT           1000000 non-null  object  \n",
      " 8   TURNOVER          1000000 non-null  object  \n",
      " 9   CLIENT_RESIDENCE  1000000 non-null  object  \n",
      " 10  OBS_VALUE         1000000 non-null  float64 \n",
      " 11  UNIT_MEASURE      1000000 non-null  category\n",
      " 12  UNIT_MULT         1000000 non-null  category\n",
      " 13  DECIMALS          1000000 non-null  category\n",
      " 14  OBS_STATUS        1000000 non-null  category\n",
      " 15  OBS_STATUS_1      1000000 non-null  object  \n",
      " 16  CONF_STATUS       1000000 non-null  category\n",
      " 17  CONF_STATUS_1     1000000 non-null  object  \n",
      " 18  DOMINANCE         0 non-null        float64 \n",
      " 19  SHARE_SECOND      0 non-null        float64 \n",
      " 20  COMMENT_OBS       0 non-null        float64 \n",
      "dtypes: category(9), float64(4), int64(1), object(7)\n",
      "memory usage: 101.1+ MB\n"
     ]
    }
   ],
   "source": [
    "DTYPES = {\n",
    "    'REF_AREA' : 'category',\n",
    "    'INDICATOR' : 'category',\n",
    "    'ACTIVITY' : 'category',\n",
    "    'NUMBER_EMPL' : 'category',\n",
    "    'UNIT_MEASURE' : 'category',\n",
    "    'UNIT_MULT' : 'category',\n",
    "    'DECIMALS' : 'category',\n",
    "    'OBS_STATUS' : 'category',\n",
    "    'CONF_STATUS' : 'category'\n",
    "}\n",
    "df = pd.read_csv('test_1_000_000_lines.csv', sep=';', dtype=DTYPES)\n",
    "df.info()"
   ]
  }
 ],
 "metadata": {
  "kernelspec": {
   "display_name": "Python 3",
   "language": "python",
   "name": "python3"
  },
  "language_info": {
   "codemirror_mode": {
    "name": "ipython",
    "version": 3
   },
   "file_extension": ".py",
   "mimetype": "text/x-python",
   "name": "python",
   "nbconvert_exporter": "python",
   "pygments_lexer": "ipython3",
   "version": "3.10.5"
  },
  "orig_nbformat": 4,
  "vscode": {
   "interpreter": {
    "hash": "369f2c481f4da34e4445cda3fffd2e751bd1c4d706f27375911949ba6bb62e1c"
   }
  }
 },
 "nbformat": 4,
 "nbformat_minor": 2
}
