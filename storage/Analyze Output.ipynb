{
 "cells": [
  {
   "attachments": {},
   "cell_type": "markdown",
   "metadata": {},
   "source": [
    "# Analyze Output Data for Tests\n",
    "\n",
    "## 1. For Workload 1 flow: EBSSBS_PRL_A\n",
    "\n",
    "There is a task to create a table to store the flow.\n"
   ]
  },
  {
   "cell_type": "code",
   "execution_count": null,
   "metadata": {},
   "outputs": [],
   "source": [
    "import sqlite3\n",
    "import os\n",
    "\n",
    "dbfile = os.path.\n",
    "# Connect to the database\n",
    "with sqlite3.connect('example.db') as conn:\n",
    "    # Get a cursor object\n",
    "    cur = conn.cursor()\n",
    "    # Execute a SQL command to retrieve information about all tables in the database\n",
    "    cur.execute(\"SELECT name FROM sqlite_master WHERE type='table';\")\n",
    "    # Fetch all the rows returned by the command\n",
    "    rows = cur.fetchall()\n",
    "    # Print the names of all the tables in the database\n",
    "    for row in rows:\n",
    "        print(row[0])\n",
    "    # Close the cursor and connection\n",
    "    cur.close()\n"
   ]
  }
 ],
 "metadata": {
  "kernelspec": {
   "display_name": "base",
   "language": "python",
   "name": "python3"
  },
  "language_info": {
   "codemirror_mode": {
    "name": "ipython",
    "version": 3
   },
   "file_extension": ".py",
   "mimetype": "text/x-python",
   "name": "python",
   "nbconvert_exporter": "python",
   "pygments_lexer": "ipython3",
   "version": "3.9.7"
  },
  "orig_nbformat": 4,
  "vscode": {
   "interpreter": {
    "hash": "77ad8c104b73c8f9df0b42becad597bc5627d294a4305e3f24afed84351a1160"
   }
  }
 },
 "nbformat": 4,
 "nbformat_minor": 2
}
