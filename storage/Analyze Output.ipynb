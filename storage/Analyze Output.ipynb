{
 "cells": [
  {
   "attachments": {},
   "cell_type": "markdown",
   "metadata": {},
   "source": [
    "# Analyze Output Data for Tests\n",
    "\n",
    "## 1. For Workload 1 flow: EBSSBS_PRL_A\n",
    "\n",
    "There is a task to create a table to store the flow.\n"
   ]
  },
  {
   "cell_type": "code",
   "execution_count": 1,
   "metadata": {},
   "outputs": [
    {
     "ename": "ImportError",
     "evalue": "DLL load failed while importing _sqlite3: The specified module could not be found.",
     "output_type": "error",
     "traceback": [
      "\u001b[1;31m---------------------------------------------------------------------------\u001b[0m",
      "\u001b[1;31mImportError\u001b[0m                               Traceback (most recent call last)",
      "\u001b[1;32m~\\AppData\\Local\\Temp\\1/ipykernel_15500/3462858319.py\u001b[0m in \u001b[0;36m<module>\u001b[1;34m\u001b[0m\n\u001b[1;32m----> 1\u001b[1;33m \u001b[1;32mimport\u001b[0m \u001b[0msqlite3\u001b[0m\u001b[1;33m\u001b[0m\u001b[1;33m\u001b[0m\u001b[0m\n\u001b[0m\u001b[0;32m      2\u001b[0m \u001b[1;32mimport\u001b[0m \u001b[0mos\u001b[0m\u001b[1;33m\u001b[0m\u001b[1;33m\u001b[0m\u001b[0m\n\u001b[0;32m      3\u001b[0m \u001b[1;33m\u001b[0m\u001b[0m\n\u001b[0;32m      4\u001b[0m \u001b[0mdbfile\u001b[0m \u001b[1;33m=\u001b[0m \u001b[0mos\u001b[0m\u001b[1;33m.\u001b[0m\u001b[0mpath\u001b[0m\u001b[1;33m.\u001b[0m\u001b[0mjoin\u001b[0m\u001b[1;33m(\u001b[0m\u001b[1;34m'EBSSBS_PRL_A_PRIM_.sqlite'\u001b[0m\u001b[1;33m)\u001b[0m\u001b[1;33m\u001b[0m\u001b[1;33m\u001b[0m\u001b[0m\n\u001b[0;32m      5\u001b[0m \u001b[1;31m# Connect to the database\u001b[0m\u001b[1;33m\u001b[0m\u001b[1;33m\u001b[0m\u001b[0m\n",
      "\u001b[1;32mc:\\PROGRA~1\\Anaconda3\\lib\\sqlite3\\__init__.py\u001b[0m in \u001b[0;36m<module>\u001b[1;34m\u001b[0m\n\u001b[0;32m     21\u001b[0m \u001b[1;31m# 3. This notice may not be removed or altered from any source distribution.\u001b[0m\u001b[1;33m\u001b[0m\u001b[1;33m\u001b[0m\u001b[0m\n\u001b[0;32m     22\u001b[0m \u001b[1;33m\u001b[0m\u001b[0m\n\u001b[1;32m---> 23\u001b[1;33m \u001b[1;32mfrom\u001b[0m \u001b[0msqlite3\u001b[0m\u001b[1;33m.\u001b[0m\u001b[0mdbapi2\u001b[0m \u001b[1;32mimport\u001b[0m \u001b[1;33m*\u001b[0m\u001b[1;33m\u001b[0m\u001b[1;33m\u001b[0m\u001b[0m\n\u001b[0m",
      "\u001b[1;32mc:\\PROGRA~1\\Anaconda3\\lib\\sqlite3\\dbapi2.py\u001b[0m in \u001b[0;36m<module>\u001b[1;34m\u001b[0m\n\u001b[0;32m     25\u001b[0m \u001b[1;32mimport\u001b[0m \u001b[0mcollections\u001b[0m\u001b[1;33m.\u001b[0m\u001b[0mabc\u001b[0m\u001b[1;33m\u001b[0m\u001b[1;33m\u001b[0m\u001b[0m\n\u001b[0;32m     26\u001b[0m \u001b[1;33m\u001b[0m\u001b[0m\n\u001b[1;32m---> 27\u001b[1;33m \u001b[1;32mfrom\u001b[0m \u001b[0m_sqlite3\u001b[0m \u001b[1;32mimport\u001b[0m \u001b[1;33m*\u001b[0m\u001b[1;33m\u001b[0m\u001b[1;33m\u001b[0m\u001b[0m\n\u001b[0m\u001b[0;32m     28\u001b[0m \u001b[1;33m\u001b[0m\u001b[0m\n\u001b[0;32m     29\u001b[0m \u001b[0mparamstyle\u001b[0m \u001b[1;33m=\u001b[0m \u001b[1;34m\"qmark\"\u001b[0m\u001b[1;33m\u001b[0m\u001b[1;33m\u001b[0m\u001b[0m\n",
      "\u001b[1;31mImportError\u001b[0m: DLL load failed while importing _sqlite3: The specified module could not be found."
     ]
    }
   ],
   "source": [
    "import sqlite3\n",
    "import os\n",
    "\n",
    "dbfile = os.path.join('EBSSBS_PRL_A_PRIM_.sqlite')\n",
    "# Connect to the database\n",
    "with sqlite3.connect(dbfile) as conn:\n",
    "    # Get a cursor object\n",
    "    cur = conn.cursor()\n",
    "    # Execute a SQL command to retrieve information about all tables in the database\n",
    "    cur.execute(\"SELECT name FROM sqlite_master WHERE type='table';\")\n",
    "    # Fetch all the rows returned by the command\n",
    "    tables = cur.fetchall()\n",
    "    # Print the names of all the tables in the database\n",
    "    for table in tables:\n",
    "        print(table[0])\n",
    "        cur.execute(f\"PRAGMA table_info({table[0]});\")\n",
    "        cols = cur.fetchall()\n",
    "        # Print the column information for the table\n",
    "        for col in cols:\n",
    "            print(col[0], col[1], col[2], \"NOT NULL\" if col[3] else \"\", \"DEFAULT \" + str(col[4]) if col[4] is not None else \"\")\n",
    "\n",
    "    # Close the cursor and connection\n",
    "    cur.close()\n"
   ]
  },
  {
   "attachments": {},
   "cell_type": "markdown",
   "metadata": {},
   "source": [
    "# Some tooling\n",
    "- create the sqlite direct from pandas to extract later the structure"
   ]
  },
  {
   "cell_type": "code",
   "execution_count": 10,
   "metadata": {},
   "outputs": [],
   "source": [
    "import pandas as pd\n",
    "import sqlite3\n",
    "\n",
    "# Load the DataFrame from the pickle file\n",
    "df = pd.read_pickle('test_1000_lines.pickle')\n",
    "# Connect to the SQLite database\n",
    "with sqlite3.connect('EBSSBS_PRL_A_PRIM_.sqlite') as conn:\n",
    "    # Write the DataFrame to the database\n",
    "    df.to_sql('primaries', conn)\n",
    "    # Close the database connection\n"
   ]
  },
  {
   "cell_type": "code",
   "execution_count": 12,
   "metadata": {},
   "outputs": [
    {
     "name": "stdout",
     "output_type": "stream",
     "text": [
      "CREATE TABLE \"primaries\" (\n",
      "\"index\" INTEGER,\n",
      "  \"DATAFLOW\" TEXT,\n",
      "  \"FREQ\" TEXT,\n",
      "  \"TIME_PERIOD\" INTEGER,\n",
      "  \"REF_AREA\" TEXT,\n",
      "  \"INDICATOR\" TEXT,\n",
      "  \"ACTIVITY\" TEXT,\n",
      "  \"NUMBER_EMPL\" TEXT,\n",
      "  \"PRODUCT\" TEXT,\n",
      "  \"TURNOVER\" TEXT,\n",
      "  \"CLIENT_RESIDENCE\" TEXT,\n",
      "  \"OBS_VALUE\" REAL,\n",
      "  \"UNIT_MEASURE\" TEXT,\n",
      "  \"UNIT_MULT\" TEXT,\n",
      "  \"DECIMALS\" TEXT,\n",
      "  \"OBS_STATUS\" TEXT,\n",
      "  \"OBS_STATUS_1\" TEXT,\n",
      "  \"CONF_STATUS\" TEXT,\n",
      "  \"CONF_STATUS_1\" TEXT,\n",
      "  \"DOMINANCE\" REAL,\n",
      "  \"SHARE_SECOND\" REAL,\n",
      "  \"COMMENT_OBS\" REAL\n",
      ")\n"
     ]
    }
   ],
   "source": [
    "import sqlite3\n",
    "\n",
    "# Connect to the database\n",
    "with sqlite3.connect('EBSSBS_PRL_A_PRIM_.sqlite') as conn:\n",
    "    # Get a cursor object\n",
    "    cur = conn.cursor()\n",
    "    # Execute a SQL command to retrieve the table schema\n",
    "    cur.execute(\"SELECT sql FROM sqlite_master WHERE type='table' AND name='primaries'\")\n",
    "    # Fetch the first row returned by the command\n",
    "    row = cur.fetchone()\n",
    "    # Print the SQL script to create the table\n",
    "    print(row[0])\n",
    "    # Close the cursor and connection\n",
    "    cur.close()\n"
   ]
  }
 ],
 "metadata": {
  "kernelspec": {
   "display_name": "base",
   "language": "python",
   "name": "python3"
  },
  "language_info": {
   "codemirror_mode": {
    "name": "ipython",
    "version": 3
   },
   "file_extension": ".py",
   "mimetype": "text/x-python",
   "name": "python",
   "nbconvert_exporter": "python",
   "pygments_lexer": "ipython3",
   "version": "3.9.7"
  },
  "orig_nbformat": 4,
  "vscode": {
   "interpreter": {
    "hash": "77ad8c104b73c8f9df0b42becad597bc5627d294a4305e3f24afed84351a1160"
   }
  }
 },
 "nbformat": 4,
 "nbformat_minor": 2
}
