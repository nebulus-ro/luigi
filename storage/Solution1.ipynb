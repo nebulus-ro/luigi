{
 "cells": [
  {
   "cell_type": "code",
   "execution_count": null,
   "metadata": {},
   "outputs": [],
   "source": []
  },
  {
   "cell_type": "markdown",
   "metadata": {},
   "source": [
    "# Solution One\n",
    "1. First field: \"DATAFLOW\" TEXT  \n",
    "I will ignore now because I believe that flows do not interact \n",
    "so will have different tables (or even databases) for each flow\n",
    "(the flows separation hipotesys must be verified with the owner)\n",
    "\n",
    "2. These are the fields that will form the key (__group1__)\n",
    "\n",
    "  \"FREQ\" TEXT,  \n",
    "  \"TIME_PERIOD\" INTEGER,  \n",
    "  \"REF_AREA\" TEXT=? AND  \n",
    "  \"INDICATOR\" TEXT,  \n",
    "  \"ACTIVITY\" TEXT,  \n",
    "  \"NUMBER_EMPL\" TEXT,  \n",
    "  \"PRODUCT\" TEXT,  \n",
    "  \"TURNOVER\" TEXT,  \n",
    "  \"CLIENT_RESIDENCE\" TEXT,  \n",
    "  \"UNIT_MEASURE\" TEXT,  \n",
    "  \n",
    "  \n",
    "3. These are the fields that will form the value (__group2__)\n",
    "\n",
    "  \"OBS_STATUS\" TEXT,  \n",
    "  \"OBS_STATUS_1\" TEXT,  \n",
    "  \"CONF_STATUS\" TEXT,  \n",
    "  \"CONF_STATUS_1\" TEXT,  \n",
    "  \"OBS_VALUE\" REAL,  \n",
    "  \"UNIT_MULT\" TEXT,  \n",
    "  \"DECIMALS\" TEXT,  \n",
    "  \n",
    "  \n",
    "4. I don't know what are these next fields\n",
    "(maybe a real example will help, or asking the owner)\n",
    "(for now I will add them as values)\n",
    "\n",
    "  \"DOMINANCE\" TEXT,  \n",
    "  \"SHARE_SECOND\" TEXT,  \n",
    "  \"COMMENT_OBS\" TEXT  \n",
    "\n",
    "## Structure:\n",
    "1. Will be a table for keys:  \n",
    "Flow1Keys(id primary key, unique(group1))\n",
    "\n",
    "2. And a table for values:  \n",
    "Flow1Values(timestamp, keyId, group2)\n",
    "- timestamp is an INTEGER and there are some functions\n",
    "\n",
    "## Operations:\n",
    "1. Adding a row (group11, group21):\n",
    "    - try to insert a key if do not exists (group11)\n",
    "    - get the keyId for group11\n",
    "    - add group21 to values if the latest timestamp for keyId has different values (group21 != group2(last timestamp))\n",
    "\n",
    "2. Get the last value for a key\n",
    "3. Get a value for a key before a timestamp (snapshot)\n",
    "4. Get history for a key\n",
    "\n",
    "## Some questions:\n",
    "- What means a transaction in this context?\n",
    "- Performance?\n",
    "- Last values for a key and all others to be in different tables?"
   ]
  },
  {
   "cell_type": "code",
   "execution_count": 5,
   "metadata": {},
   "outputs": [],
   "source": [
    "import sqlite3\n",
    "import time\n"
   ]
  },
  {
   "cell_type": "code",
   "execution_count": 2,
   "metadata": {},
   "outputs": [],
   "source": [
    "DB_FILE = 'solution1.db'\n",
    "# Connect to a new database\n",
    "with sqlite3.connect(DB_FILE) as conn:\n",
    "    # Open the SQL script file\n",
    "    with open('solution1.sql', 'r') as f:\n",
    "        # Read the entire file contents\n",
    "        sql_script = f.read()\n",
    "        # Execute the script on the database connection\n",
    "        conn.executescript(sql_script)\n"
   ]
  },
  {
   "cell_type": "code",
   "execution_count": 3,
   "metadata": {},
   "outputs": [
    {
     "name": "stdout",
     "output_type": "stream",
     "text": [
      "Table: flow1keys\n",
      "  id (INTEGER) PRIMARY KEY \n",
      "  FREQ (TEXT(1))  \n",
      "  TIME_PERIOD (INTEGER)  \n",
      "  REF_AREA (TEXT(2))  \n",
      "  INDICATOR (TEXT(4))  \n",
      "  ACTIVITY (TEXT)  \n",
      "  NUMBER_EMPL (TEXT)  \n",
      "  PRODUCT (TEXT(2))  \n",
      "  TURNOVER (TEXT(2))  \n",
      "  CLIENT_RESIDENCE (TEXT(2))  \n",
      "  UNIT_MEASURE (TEXT(3))  \n",
      "\n",
      "Table: flow1values\n",
      "  timestamp (INTEGER)  \n",
      "  keyID (INTEGER)  \n",
      "  OBS_STATUS (TEXT(1))  \n",
      "  OBS_STATUS_1 (TEXT(1))  \n",
      "  CONF_STATUS (TEXT(1))  \n",
      "  CONF_STATUS_1 (TEXT(1))  \n",
      "  OBS_VALUE (REAL)  \n",
      "  UNIT_MULT (TEXT(1))  \n",
      "  DECIMALS (TEXT(1))  \n",
      "  DOMINANCE (TEXT)  \n",
      "  SHARE_SECOND (TEXT)  \n",
      "  COMMENT_OBS (TEXT)  \n",
      "\n"
     ]
    }
   ],
   "source": [
    "# now print the DB structure\n",
    "# Connect to the database\n",
    "with sqlite3.connect(DB_FILE) as conn:\n",
    "    # Create a cursor object\n",
    "    cursor = conn.cursor()\n",
    "    # Query the database for a list of tables\n",
    "    cursor.execute(\"SELECT name FROM sqlite_master WHERE type='table' ORDER BY name;\")\n",
    "    tables = cursor.fetchall()\n",
    "    # Iterate over each table and print its structure\n",
    "    for table_name in tables:\n",
    "        # Print the table name\n",
    "        print(f'Table: {table_name[0]}')\n",
    "        # Query the database for the columns in the table\n",
    "        cursor.execute(f\"PRAGMA table_info({table_name[0]})\")\n",
    "        columns = cursor.fetchall()\n",
    "        # Print the columns and their properties\n",
    "        for col in columns:\n",
    "            print(f'  {col[1]} ({col[2]}) {\"PRIMARY KEY\" if col[5] == 1 else \"\"} {\"NOT NULL\" if col[3] == 1 else \"\"}')\n",
    "        # Print a blank line to separate tables\n",
    "        print('')"
   ]
  },
  {
   "cell_type": "code",
   "execution_count": 6,
   "metadata": {},
   "outputs": [],
   "source": [
    "# 1. Operations: Adding a row\n",
    "# function for insert, transactioned\n",
    "def process_set(conn, data_set):\n",
    "    # Create cursor\n",
    "    c = conn.cursor()\n",
    "    # Start a transaction\n",
    "    c.execute('BEGIN TRANSACTION')\n",
    "    for freq, time_period, ref_area, indicator, activity, number_empl, product, turnover, client_residence, unit_measure, unit_mult, decimals, \\\n",
    "        obs_status, obs_status_1, conf_status, conf_status_1, obs_value, dominance, share_second, comment_obs in data_set:\n",
    "        # Convert (col1, ... colN) to keyID\n",
    "        c.execute('SELECT id FROM flow1keys WHERE freq=? AND time_period=? AND ref_area=? AND indicator=? AND activity=? AND number_empl=? AND product=? AND turnover=? AND client_residence=? AND unit_measure=?', \\\n",
    "                  (freq, time_period, ref_area, indicator, activity, number_empl, product, turnover, client_residence, unit_measure))\n",
    "        result = c.fetchone()\n",
    "        if result:\n",
    "            keyID = result[0]\n",
    "        else:\n",
    "            # If (col1, ... colN) doesn't exist in flow1keys, insert a new row and get the keyID\n",
    "            c.execute('INSERT INTO flow1keys (freq, time_period, ref_area, indicator, activity, number_empl, product, turnover, client_residence, unit_measure) VALUES (?, ?, ?, ?, ?, ?, ?, ?, ?, ?)', \\\n",
    "                      (freq, time_period, ref_area, indicator, activity, number_empl, product, turnover, client_residence, unit_measure))\n",
    "            keyID = c.lastrowid\n",
    "\n",
    "        # Check if the latest entry for the (keyID, value...) pair has a different value\n",
    "        c.execute('SELECT obs_status, obs_status_1, conf_status, conf_status_1, obs_value, unit_mult, decimals, dominance, share_second, comment_obs FROM flow1values WHERE keyID=? ORDER BY timestamp DESC LIMIT 1', (keyID,))\n",
    "        result = c.fetchone()\n",
    "        if not result or \\\n",
    "            (result[0] != obs_status or result[1] != obs_status_1 or result[2] != conf_status or result[3] != conf_status_1 or result[4] != obs_value or result[5] != unit_mult):\n",
    "            # Insert a new row in flow1values\n",
    "            timestamp = int(time.time())\n",
    "            c.execute('INSERT INTO flow1values (timestamp, keyID, obs_status, obs_status_1, conf_status, conf_status_1, obs_value, unit_mult, decimals, dominance, share_second, comment_obs) VALUES (?, ?, ?, ?, ?, ?, ?, ?, ?, ?, ?, ?)', \\\n",
    "                       (timestamp, keyID, obs_status, obs_status_1, conf_status, conf_status_1, obs_value, unit_mult, decimals, dominance, share_second, comment_obs))\n",
    "    # Commit the transaction\n",
    "    conn.commit()\n",
    "\n",
    "# and a little example\n",
    "dataset = (\n",
    "    ('A', 2021, 'LT', 'ENT', 'B071', '_T', '_Z', '_Z', '_Z', 'BGN', '3', '2', 'P', 'L', 'M', 'T', 465784.79, '', '', ''),\n",
    "    ('A', 2021, 'ME', 'EMPL', 'N', 'E20T49', '_Z', '_Z', '_Z', 'HUF', '3', '5', 'U', 'D', 'C', 'O', 866343.37, '', '', ''),\n",
    "    ('A', 2020, 'HU', 'EMPL', 'J639', 'E2T9', '_Z', '_Z', '_Z', 'TRY', '0', '5', 'L', 'L', 'O', 'M', 973961.01, '', '', '')\n",
    ")\n",
    "\n",
    "# Connect to the database\n",
    "with sqlite3.connect(DB_FILE) as conn:\n",
    "    process_set(conn, dataset)\n"
   ]
  },
  {
   "cell_type": "code",
   "execution_count": null,
   "metadata": {},
   "outputs": [],
   "source": [
    "# 1. Operations: Adding a row (but with pandas dataframe as datasource)\n",
    "# function for insert, transactioned\n",
    "import pandas as pd\n",
    "\n",
    "def process_set(conn, df):\n",
    "    c = conn.cursor()\n",
    "    c.execute('BEGIN TRANSACTION')\n",
    "    for _, row in df.iterrows():\n",
    "        freq, time_period, ref_area, indicator, activity, number_empl, product, turnover, client_residence, unit_measure, unit_mult, decimals, obs_status, obs_status_1, conf_status, conf_status_1, obs_value, dominance, share_second, comment_obs = row.values\n",
    "        c.execute('SELECT id FROM flow1keys WHERE freq=? AND time_period=? AND ref_area=? AND indicator=? AND activity=? AND number_empl=? AND product=? AND turnover=? AND client_residence=? AND unit_measure=?', \\\n",
    "                  (freq, time_period, ref_area, indicator, activity, number_empl, product, turnover, client_residence, unit_measure))\n",
    "        result = c.fetchone()\n",
    "        if result:\n",
    "            keyID = result[0]\n",
    "        else:\n",
    "            c.execute('INSERT INTO flow1keys (freq, time_period, ref_area, indicator, activity, number_empl, product, turnover, client_residence, unit_measure) VALUES (?, ?, ?, ?, ?, ?, ?, ?, ?, ?)', \\\n",
    "                      (freq, time_period, ref_area, indicator, activity, number_empl, product, turnover, client_residence, unit_measure))\n",
    "            keyID = c.lastrowid\n",
    "\n",
    "        c.execute('SELECT obs_status, obs_status_1, conf_status, conf_status_1, obs_value, unit_mult, decimals, dominance, share_second, comment_obs FROM flow1values WHERE keyID=? ORDER BY timestamp DESC LIMIT 1', (keyID,))\n",
    "        result = c.fetchone()\n",
    "        if not result or \\\n",
    "            (result[0] != obs_status or result[1] != obs_status_1 or result[2] != conf_status or result[3] != conf_status_1 or result[4] != obs_value or result[5] != unit_mult):\n",
    "            timestamp = int(time.time())\n",
    "            c.execute('INSERT INTO flow1values (timestamp, keyID, obs_status, obs_status_1, conf_status, conf_status_1, obs_value, unit_mult, decimals, dominance, share_second, comment_obs) VALUES (?, ?, ?, ?, ?, ?, ?, ?, ?, ?, ?, ?)', \\\n",
    "                       (timestamp, keyID, obs_status, obs_status_1, conf_status, conf_status_1, obs_value, unit_mult, decimals, dominance, share_second, comment_obs))\n",
    "    conn.commit()\n",
    "\n",
    "    # a small example with different data \n",
    "    dataset = pd.DataFrame((\n",
    "        ('A', 2021, 'LT', 'ENT', 'B071', '_T', '_Z', '_Z', '_Z', 'BGN', '3', '2', 'P', 'L', 'M', 'T', 465784.79, '', '', ''),\n",
    "    ('A', 2021, 'ME', 'EMPL', 'N', 'E20T49', '_Z', '_Z', '_Z', 'HUF', '3', '5', 'U', 'D', 'C', 'O', 866343.37, '', '', ''),\n",
    "    ('A', 2020, 'HU', 'EMPL', 'J639', 'E2T9', '_Z', '_Z', '_Z', 'TRY', '0', '5', 'L', 'L', 'O', 'M', 973961.01, '', '', '')\n",
    ")"
   ]
  },
  {
   "cell_type": "code",
   "execution_count": 11,
   "metadata": {},
   "outputs": [
    {
     "name": "stdout",
     "output_type": "stream",
     "text": [
      "flow1keys\n",
      "(1, 'A', 2021, 'LT', 'ENT', 'B071', '_T', '_Z', '_Z', '_Z', 'BGN')\n",
      "(2, 'A', 2021, 'ME', 'EMPL', 'N', 'E20T49', '_Z', '_Z', '_Z', 'HUF')\n",
      "(3, 'A', 2020, 'HU', 'EMPL', 'J639', 'E2T9', '_Z', '_Z', '_Z', 'TRY')\n",
      "flow1values\n",
      "(1676630202, 1, 'P', 'L', 'M', 'T', 465784.79, '3', '2', '', '', '')\n",
      "(1676630202, 2, 'U', 'D', 'C', 'O', 866343.37, '3', '5', '', '', '')\n",
      "(1676630202, 3, 'L', 'L', 'O', 'M', 973961.01, '0', '5', '', '', '')\n",
      "(1676630271, 1, 'P', 'L', 'M', 'T', 465750.33, '3', '2', '', '', '')\n"
     ]
    }
   ],
   "source": [
    "# a little visualization of data in DB\n",
    "with sqlite3.connect(DB_FILE) as conn:\n",
    "    # Create a cursor object to execute SQL commands\n",
    "    cur =conn.cursor()\n",
    "    # Execute a SELECT statement to fetch all rows from the table\n",
    "    cur.execute(\"SELECT * FROM flow1keys\")\n",
    "    # Fetch all rows and print them\n",
    "    rows = cur.fetchall()\n",
    "    print('flow1keys')\n",
    "    if len(rows): \n",
    "        for row in rows:\n",
    "            print(row)\n",
    "    else:\n",
    "        print('nothing to print')\n",
    "    cur.execute(\"SELECT * FROM flow1values\")\n",
    "    # Fetch all rows and print them\n",
    "    rows = cur.fetchall()\n",
    "    print('flow1values')\n",
    "    if len(rows): \n",
    "        for row in rows:\n",
    "            print(row)\n",
    "    else:\n",
    "        print('nothing to print')\n",
    "    cur.close()"
   ]
  },
  {
   "cell_type": "code",
   "execution_count": 8,
   "metadata": {},
   "outputs": [],
   "source": [
    "# try to add first one again\n",
    "dataset = (\n",
    "    ('A', 2021, 'LT', 'ENT', 'B071', '_T', '_Z', '_Z', '_Z', 'BGN', '3', '2', 'P', 'L', 'M', 'T', 465784.79, '', '', ''),\n",
    "    )\n",
    "\n",
    "# Connect to the database\n",
    "with sqlite3.connect(DB_FILE) as conn:\n",
    "    process_set(conn, dataset)\n"
   ]
  },
  {
   "cell_type": "code",
   "execution_count": 10,
   "metadata": {},
   "outputs": [],
   "source": [
    "# now with a different obs_value\n",
    "dataset = (\n",
    "    ('A', 2021, 'LT', 'ENT', 'B071', '_T', '_Z', '_Z', '_Z', 'BGN', '3', '2', 'P', 'L', 'M', 'T', 465750.33, '', '', ''),\n",
    "    )\n",
    "\n",
    "# Connect to the database\n",
    "with sqlite3.connect(DB_FILE) as conn:\n",
    "    process_set(conn, dataset)\n"
   ]
  },
  {
   "cell_type": "code",
   "execution_count": 12,
   "metadata": {},
   "outputs": [],
   "source": [
    "# 2. Operations: Get the last value for a key\n",
    "# function for active data\n",
    "def process_get(conn, key):\n",
    "    # Create cursor\n",
    "    c = conn.cursor()\n",
    "    # unpack key\n",
    "    freq, time_period, ref_area, indicator, activity, number_empl, product, turnover, client_residence, unit_measure = key\n",
    "    # execute select to retrieve the key\n",
    "    c.execute('SELECT id FROM flow1keys WHERE freq=? AND time_period=? AND ref_area=? AND indicator=? AND activity=? AND number_empl=? AND product=? AND turnover=? AND client_residence=? AND unit_measure=?', \\\n",
    "              (freq, time_period, ref_area, indicator, activity, number_empl, product, turnover, client_residence, unit_measure))\n",
    "    result = c.fetchone()\n",
    "    if result:\n",
    "        keyID = result[0]\n",
    "    else:\n",
    "        raise Exception('No key for these values')\n",
    "    # Get latest entry for the (keyID, value...) pair has a different value\n",
    "    c.execute('SELECT obs_status, obs_status_1, conf_status, conf_status_1, obs_value, unit_mult, decimals, dominance, share_second, comment_obs FROM flow1values WHERE keyID=? ORDER BY timestamp DESC LIMIT 1', (keyID,))\n",
    "    return c.fetchone()\n",
    "\n",
    "\n"
   ]
  },
  {
   "cell_type": "code",
   "execution_count": 14,
   "metadata": {},
   "outputs": [
    {
     "name": "stdout",
     "output_type": "stream",
     "text": [
      "('P', 'L', 'M', 'T', 465750.33, '3', '2', '', '', '')\n"
     ]
    }
   ],
   "source": [
    "# now some tests: positive\n",
    "key = ('A', 2021, 'LT', 'ENT', 'B071', '_T', '_Z', '_Z', '_Z', 'BGN')\n",
    "# Connect to the database\n",
    "with sqlite3.connect(DB_FILE) as conn:\n",
    "    print(process_get(conn, key))\n"
   ]
  },
  {
   "cell_type": "code",
   "execution_count": 15,
   "metadata": {},
   "outputs": [
    {
     "ename": "Exception",
     "evalue": "No key for these values",
     "output_type": "error",
     "traceback": [
      "\u001b[1;31m---------------------------------------------------------------------------\u001b[0m",
      "\u001b[1;31mException\u001b[0m                                 Traceback (most recent call last)",
      "\u001b[1;32m~\\AppData\\Local\\Temp\\1/ipykernel_16028/2808362419.py\u001b[0m in \u001b[0;36m<module>\u001b[1;34m\u001b[0m\n\u001b[0;32m      3\u001b[0m \u001b[1;31m# Connect to the database\u001b[0m\u001b[1;33m\u001b[0m\u001b[1;33m\u001b[0m\u001b[0m\n\u001b[0;32m      4\u001b[0m \u001b[1;32mwith\u001b[0m \u001b[0msqlite3\u001b[0m\u001b[1;33m.\u001b[0m\u001b[0mconnect\u001b[0m\u001b[1;33m(\u001b[0m\u001b[0mDB_FILE\u001b[0m\u001b[1;33m)\u001b[0m \u001b[1;32mas\u001b[0m \u001b[0mconn\u001b[0m\u001b[1;33m:\u001b[0m\u001b[1;33m\u001b[0m\u001b[1;33m\u001b[0m\u001b[0m\n\u001b[1;32m----> 5\u001b[1;33m     \u001b[0mprint\u001b[0m\u001b[1;33m(\u001b[0m\u001b[0mprocess_get\u001b[0m\u001b[1;33m(\u001b[0m\u001b[0mconn\u001b[0m\u001b[1;33m,\u001b[0m \u001b[0mkey\u001b[0m\u001b[1;33m)\u001b[0m\u001b[1;33m)\u001b[0m\u001b[1;33m\u001b[0m\u001b[1;33m\u001b[0m\u001b[0m\n\u001b[0m",
      "\u001b[1;32m~\\AppData\\Local\\Temp\\1/ipykernel_16028/2696474718.py\u001b[0m in \u001b[0;36mprocess_get\u001b[1;34m(conn, key)\u001b[0m\n\u001b[0;32m     12\u001b[0m         \u001b[0mkeyID\u001b[0m \u001b[1;33m=\u001b[0m \u001b[0mresult\u001b[0m\u001b[1;33m[\u001b[0m\u001b[1;36m0\u001b[0m\u001b[1;33m]\u001b[0m\u001b[1;33m\u001b[0m\u001b[1;33m\u001b[0m\u001b[0m\n\u001b[0;32m     13\u001b[0m     \u001b[1;32melse\u001b[0m\u001b[1;33m:\u001b[0m\u001b[1;33m\u001b[0m\u001b[1;33m\u001b[0m\u001b[0m\n\u001b[1;32m---> 14\u001b[1;33m         \u001b[1;32mraise\u001b[0m \u001b[0mException\u001b[0m\u001b[1;33m(\u001b[0m\u001b[1;34m'No key for these values'\u001b[0m\u001b[1;33m)\u001b[0m\u001b[1;33m\u001b[0m\u001b[1;33m\u001b[0m\u001b[0m\n\u001b[0m\u001b[0;32m     15\u001b[0m     \u001b[1;31m# Get latest entry for the (keyID, value...) pair has a different value\u001b[0m\u001b[1;33m\u001b[0m\u001b[1;33m\u001b[0m\u001b[0m\n\u001b[0;32m     16\u001b[0m     \u001b[0mc\u001b[0m\u001b[1;33m.\u001b[0m\u001b[0mexecute\u001b[0m\u001b[1;33m(\u001b[0m\u001b[1;34m'SELECT obs_status, obs_status_1, conf_status, conf_status_1, obs_value, unit_mult, decimals, dominance, share_second, comment_obs FROM flow1values WHERE keyID=? ORDER BY timestamp DESC LIMIT 1'\u001b[0m\u001b[1;33m,\u001b[0m \u001b[1;33m(\u001b[0m\u001b[0mkeyID\u001b[0m\u001b[1;33m,\u001b[0m\u001b[1;33m)\u001b[0m\u001b[1;33m)\u001b[0m\u001b[1;33m\u001b[0m\u001b[1;33m\u001b[0m\u001b[0m\n",
      "\u001b[1;31mException\u001b[0m: No key for these values"
     ]
    }
   ],
   "source": [
    "# now some tests: negative - non existing key\n",
    "key = ('A', 2021, 'RO', 'ENT', 'B071', '_T', '_Z', '_Z', '_Z', 'BGN')\n",
    "# Connect to the database\n",
    "with sqlite3.connect(DB_FILE) as conn:\n",
    "    print(process_get(conn, key))\n"
   ]
  },
  {
   "cell_type": "code",
   "execution_count": 20,
   "metadata": {},
   "outputs": [],
   "source": [
    "# 3. Operations: Get a value for a key before a timestamp (snapshot)\n",
    "# function for snapshot data\n",
    "# TODO: get and getsnapshot can be conbined by just adding an optional parameter of type date named snapshot\n",
    "def process_getsnapshot(conn, key, date):\n",
    "    # Create cursor\n",
    "    c = conn.cursor()\n",
    "    # unpack key\n",
    "    freq, time_period, ref_area, indicator, activity, number_empl, product, turnover, client_residence, unit_measure = key\n",
    "    # execute select to retrieve the key\n",
    "    c.execute('SELECT id FROM flow1keys WHERE freq=? AND time_period=? AND ref_area=? AND indicator=? AND activity=? AND number_empl=? AND product=? AND turnover=? AND client_residence=? AND unit_measure=?', \\\n",
    "              (freq, time_period, ref_area, indicator, activity, number_empl, product, turnover, client_residence, unit_measure))\n",
    "    result = c.fetchone()\n",
    "    if result:\n",
    "        keyID = result[0]\n",
    "    else:\n",
    "        raise Exception('No key for these values')\n",
    "    # Get entry before (or equal) date for the (keyID, value...) pair has a different value\n",
    "    c.execute('SELECT obs_status, obs_status_1, conf_status, conf_status_1, obs_value, unit_mult, decimals, dominance, share_second, comment_obs FROM flow1values WHERE keyID=? AND timestamp <=? ORDER BY timestamp DESC LIMIT 1', (keyID, date.timestamp()))\n",
    "    return c.fetchone()\n"
   ]
  },
  {
   "cell_type": "code",
   "execution_count": 22,
   "metadata": {},
   "outputs": [
    {
     "name": "stdout",
     "output_type": "stream",
     "text": [
      "timestamp 1676632644.542244\n",
      "1676633081.445342\n",
      "('P', 'L', 'M', 'T', 465750.33, '3', '2', '', '', '')\n",
      "1676630270.0\n",
      "('P', 'L', 'M', 'T', 465784.79, '3', '2', '', '', '')\n"
     ]
    }
   ],
   "source": [
    "# positive test: the two records for the first key\n",
    "from datetime import datetime\n",
    "\n",
    "print('timestamp', current_time.timestamp())\n",
    "key = ('A', 2021, 'LT', 'ENT', 'B071', '_T', '_Z', '_Z', '_Z', 'BGN')\n",
    "# Connect to the database\n",
    "with sqlite3.connect(DB_FILE) as conn:\n",
    "    # equivalent with get: always when you ask with now() will be the last record\n",
    "    date1 = datetime.now()\n",
    "    print(process_getsnapshot(conn, key, date1))\n",
    "    # tried to do a backward conversion from a value I know\n",
    "    snaptime = 1676630270\n",
    "    date2 = datetime.fromtimestamp(snaptime)\n",
    "    print(process_getsnapshot(conn, key, date2))"
   ]
  },
  {
   "cell_type": "code",
   "execution_count": 23,
   "metadata": {},
   "outputs": [
    {
     "name": "stdout",
     "output_type": "stream",
     "text": [
      "1676630200.0\n",
      "None\n"
     ]
    }
   ],
   "source": [
    "# negative test: try to get a record before the first one\n",
    "from datetime import datetime\n",
    "\n",
    "key = ('A', 2021, 'LT', 'ENT', 'B071', '_T', '_Z', '_Z', '_Z', 'BGN')\n",
    "# Connect to the database\n",
    "with sqlite3.connect(DB_FILE) as conn:\n",
    "    snaptime = 1676630200\n",
    "    date3 = datetime.fromtimestamp(snaptime)\n",
    "    print(process_getsnapshot(conn, key, date3))"
   ]
  },
  {
   "cell_type": "code",
   "execution_count": 26,
   "metadata": {},
   "outputs": [],
   "source": [
    "# 4. Operations: Get history for a key\n",
    "# function for history data\n",
    "# TODO: it can be combined with a start date (like in snapshot) and with another parameter limit to specify how many records\n",
    "def process_gethistory(conn, key):\n",
    "    # Create cursor\n",
    "    c = conn.cursor()\n",
    "    # unpack key\n",
    "    freq, time_period, ref_area, indicator, activity, number_empl, product, turnover, client_residence, unit_measure = key\n",
    "    # execute select to retrieve the key\n",
    "    c.execute('SELECT id FROM flow1keys WHERE freq=? AND time_period=? AND ref_area=? AND indicator=? AND activity=? AND number_empl=? AND product=? AND turnover=? AND client_residence=? AND unit_measure=?', \\\n",
    "              (freq, time_period, ref_area, indicator, activity, number_empl, product, turnover, client_residence, unit_measure))\n",
    "    result = c.fetchone()\n",
    "    if result:\n",
    "        keyID = result[0]\n",
    "    else:\n",
    "        raise Exception('No key for these values')\n",
    "    # Get entry before (or equal) date for the (keyID, value...) pair has a different value\n",
    "    c.execute('SELECT obs_status, obs_status_1, conf_status, conf_status_1, obs_value, unit_mult, decimals, dominance, share_second, comment_obs FROM flow1values WHERE keyID=? ORDER BY timestamp DESC', (keyID,))\n",
    "    return c.fetchall()\n"
   ]
  },
  {
   "cell_type": "code",
   "execution_count": 27,
   "metadata": {},
   "outputs": [
    {
     "name": "stdout",
     "output_type": "stream",
     "text": [
      "[('P', 'L', 'M', 'T', 465750.33, '3', '2', '', '', ''), ('P', 'L', 'M', 'T', 465784.79, '3', '2', '', '', '')]\n"
     ]
    }
   ],
   "source": [
    "# just a positive test for now\n",
    "key = ('A', 2021, 'LT', 'ENT', 'B071', '_T', '_Z', '_Z', '_Z', 'BGN')\n",
    "# Connect to the database\n",
    "with sqlite3.connect(DB_FILE) as conn:\n",
    "    print(process_gethistory(conn, key))"
   ]
  },
  {
   "cell_type": "code",
   "execution_count": null,
   "metadata": {},
   "outputs": [],
   "source": []
  }
 ],
 "metadata": {
  "kernelspec": {
   "display_name": "Python 3 (ipykernel)",
   "language": "python",
   "name": "python3"
  },
  "language_info": {
   "codemirror_mode": {
    "name": "ipython",
    "version": 3
   },
   "file_extension": ".py",
   "mimetype": "text/x-python",
   "name": "python",
   "nbconvert_exporter": "python",
   "pygments_lexer": "ipython3",
   "version": "3.9.7"
  },
  "vscode": {
   "interpreter": {
    "hash": "77ad8c104b73c8f9df0b42becad597bc5627d294a4305e3f24afed84351a1160"
   }
  }
 },
 "nbformat": 4,
 "nbformat_minor": 2
}
