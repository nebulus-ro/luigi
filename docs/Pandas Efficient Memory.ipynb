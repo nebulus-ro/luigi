{
 "cells": [
  {
   "attachments": {},
   "cell_type": "markdown",
   "metadata": {},
   "source": [
    "# Pandas Efficienty Memory\n",
    "There are some tricks that can be used to help having an efficient dataframe. Usually in this way, also, the processing speed is increased.  \n",
    "\n",
    "Here some technics:\n",
    "- Casting Categorical\n",
    "- Downcasting Ints\n",
    "- Downcasting floats\n",
    "- Casting Bool Types"
   ]
  },
  {
   "cell_type": "code",
   "execution_count": 15,
   "metadata": {},
   "outputs": [
    {
     "name": "stdout",
     "output_type": "stream",
     "text": [
      "The DB as it comes from a CSV file\n",
      "<class 'pandas.core.frame.DataFrame'>\n",
      "RangeIndex: 1000000 entries, 0 to 999999\n",
      "Data columns (total 5 columns):\n",
      " #   Column    Non-Null Count    Dtype  \n",
      "---  ------    --------------    -----  \n",
      " 0   position  1000000 non-null  object \n",
      " 1   age       1000000 non-null  int32  \n",
      " 2   team      1000000 non-null  object \n",
      " 3   win       1000000 non-null  object \n",
      " 4   prob      1000000 non-null  float64\n",
      "dtypes: float64(1), int32(1), object(3)\n",
      "memory usage: 34.3+ MB\n",
      "559 ms ± 34.8 ms per loop (mean ± std. dev. of 7 runs, 1 loop each)\n",
      "719 ms ± 126 ms per loop (mean ± std. dev. of 7 runs, 1 loop each)\n",
      "1.28 s ± 547 ms per loop (mean ± std. dev. of 7 runs, 1 loop each)\n",
      "  position  age    team  win      prob  age_rank  prob_rank  win_prob_rank\n",
      "0    right    9  yellow   no  0.761470   14421.5    63775.0        31876.0\n",
      "1     left   11   green  yes  0.404053   17897.0    33666.0        16883.0\n",
      "2    right   15    blue   no  0.424415   24391.0    35395.0        17553.0\n",
      "3    right   41    blue  yes  0.623464   68827.5    51941.0        26143.0\n",
      "4     left   48    blue  yes  0.643680   80251.5    53201.0        26285.0\n",
      "The same DB with some datatypes changed\n",
      "<class 'pandas.core.frame.DataFrame'>\n",
      "RangeIndex: 1000000 entries, 0 to 999999\n",
      "Data columns (total 5 columns):\n",
      " #   Column    Non-Null Count    Dtype   \n",
      "---  ------    --------------    -----   \n",
      " 0   position  1000000 non-null  category\n",
      " 1   age       1000000 non-null  int8    \n",
      " 2   team      1000000 non-null  category\n",
      " 3   win       1000000 non-null  bool    \n",
      " 4   prob      1000000 non-null  float32 \n",
      "dtypes: bool(1), category(2), float32(1), int8(1)\n",
      "memory usage: 7.6 MB\n",
      "1.07 s ± 472 ms per loop (mean ± std. dev. of 7 runs, 1 loop each)\n",
      "677 ms ± 152 ms per loop (mean ± std. dev. of 7 runs, 1 loop each)\n",
      "703 ms ± 81.8 ms per loop (mean ± std. dev. of 7 runs, 1 loop each)\n",
      "  position  age    team    win      prob  age_rank  prob_rank  win_prob_rank\n",
      "0    right    9  yellow  False  0.761470   14421.5    63775.0        31876.0\n",
      "1     left   11   green   True  0.404053   17897.0    33666.0        16883.0\n",
      "2    right   15    blue  False  0.424415   24391.0    35395.0        17553.0\n",
      "3    right   41    blue   True  0.623464   68827.5    51941.0        26143.0\n",
      "4     left   48    blue   True  0.643680   80251.5    53201.0        26285.0\n"
     ]
    }
   ],
   "source": [
    "import pandas as pd\n",
    "import numpy as np\n",
    "\n",
    "def get_dataset(size):\n",
    "    df = pd.DataFrame()\n",
    "    df['position'] = np.random.choice(['left','middle','right'], size)\n",
    "    df['age'] = np.random.randint(1, 50, size)\n",
    "    df['team'] = np.random.choice(['red','blue','yellow','green'], size)\n",
    "    df['win'] = np.random.choice(['yes','no'], size)\n",
    "    df['prob'] = np.random.uniform(0, 1, size)\n",
    "    return df\n",
    " \n",
    "# def set_dtypes(df):\n",
    "#     df['position'] = df['position'].astype('category')\n",
    "#     df['team'] = df['team'].astype('category')\n",
    "#     df['age'] = df['age'].astype('int8')\n",
    "#     df['prob'] = df['prob'].astype('float32')\n",
    "#     df['win'] = df['win'].map({'yes':True, 'no':False})\n",
    "#     return df\n",
    "\n",
    "def set_dtypes(df):\n",
    "    df = df.astype({\n",
    "        'position': 'category',\n",
    "        'team': 'category',\n",
    "        'age': 'int8',\n",
    "        'prob': 'float32'\n",
    "    })\n",
    "    df['win'] = df['win'].replace({'yes': True, 'no': False}).astype('bool')\n",
    "    return df\n",
    "\n",
    "print('The DB as it comes from a CSV file')\n",
    "df = get_dataset(1_000_000)\n",
    "# save a copy for the next example\n",
    "df_ = df.copy(deep=True)\n",
    "df.info()\n",
    "%timeit df['age_rank'] = df.groupby(['team','position'])['age'].rank()\n",
    "%timeit df['prob_rank'] = df.groupby(['team','position'])['prob'].rank()\n",
    "%timeit df['win_prob_rank'] = df.groupby(['team','position','win'])['prob'].rank()\n",
    "print(df.head())\n",
    "\n",
    "print('The same DB with some datatypes changed')\n",
    "dfa = set_dtypes(df_)\n",
    "dfa.info()\n",
    "%timeit dfa['age_rank'] = dfa.groupby(['team','position'])['age'].rank()\n",
    "%timeit dfa['prob_rank'] = dfa.groupby(['team','position'])['prob'].rank()\n",
    "%timeit dfa['win_prob_rank'] = dfa.groupby(['team','position','win'])['prob'].rank()\n",
    "print(dfa.head())\n"
   ]
  }
 ],
 "metadata": {
  "kernelspec": {
   "display_name": "Python 3",
   "language": "python",
   "name": "python3"
  },
  "language_info": {
   "codemirror_mode": {
    "name": "ipython",
    "version": 3
   },
   "file_extension": ".py",
   "mimetype": "text/x-python",
   "name": "python",
   "nbconvert_exporter": "python",
   "pygments_lexer": "ipython3",
   "version": "3.10.5"
  },
  "orig_nbformat": 4,
  "vscode": {
   "interpreter": {
    "hash": "369f2c481f4da34e4445cda3fffd2e751bd1c4d706f27375911949ba6bb62e1c"
   }
  }
 },
 "nbformat": 4,
 "nbformat_minor": 2
}
