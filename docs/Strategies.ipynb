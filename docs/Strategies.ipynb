{
 "cells": [
  {
   "attachments": {},
   "cell_type": "markdown",
   "metadata": {},
   "source": [
    "# About ChatGPT\n",
    "How can it can help a developer (curtesy to Rob Mulla):\n",
    "- adding comment to your code\n",
    "- refactor your code\n",
    "- create unittests\n",
    "\n"
   ]
  },
  {
   "cell_type": "code",
   "execution_count": 1,
   "metadata": {},
   "outputs": [
    {
     "name": "stdout",
     "output_type": "stream",
     "text": [
      "Skeptic\n"
     ]
    }
   ],
   "source": [
    "import luigi\n",
    "import datetime\n",
    "\n",
    "class LoggingTask(luigi.Task):\n",
    "\n",
    "    def run(self):\n",
    "        self.log_start()\n",
    "        super().run()\n",
    "        self.log_end()\n",
    "\n",
    "    def log_start(self):\n",
    "        current_time = str(datetime.datetime.now())\n",
    "        task_name = str(self)\n",
    "        print(f\"Starting task {task_name} at {current_time}\")\n",
    "\n",
    "    def log_end(self):\n",
    "        current_time = str(datetime.datetime.now())\n",
    "        task_name = str(self)\n",
    "        print(f\"Finished task {task_name} at {current_time}\")\n",
    "\n",
    "class Example(LoggingTask):\n",
    "    \n",
    "    def run(self):\n",
    "        print('Skeptic')\n",
    "\n",
    "Example().run()"
   ]
  }
 ],
 "metadata": {
  "kernelspec": {
   "display_name": "base",
   "language": "python",
   "name": "python3"
  },
  "language_info": {
   "codemirror_mode": {
    "name": "ipython",
    "version": 3
   },
   "file_extension": ".py",
   "mimetype": "text/x-python",
   "name": "python",
   "nbconvert_exporter": "python",
   "pygments_lexer": "ipython3",
   "version": "3.9.7 (default, Sep 16 2021, 16:59:28) [MSC v.1916 64 bit (AMD64)]"
  },
  "orig_nbformat": 4,
  "vscode": {
   "interpreter": {
    "hash": "77ad8c104b73c8f9df0b42becad597bc5627d294a4305e3f24afed84351a1160"
   }
  }
 },
 "nbformat": 4,
 "nbformat_minor": 2
}
